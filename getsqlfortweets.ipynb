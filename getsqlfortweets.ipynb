{
 "cells": [
  {
   "cell_type": "code",
   "execution_count": 1,
   "metadata": {
    "scrolled": true
   },
   "outputs": [],
   "source": [
    "#!/usr/bin/python3\n",
    "\n",
    "import mysql.connector\n",
    "import os\n",
    "\n",
    "directory = r'C:\\Users\\kara\\Desktop\\Compsci\\Honors Project'\n",
    "\n",
    "\n",
    "f = open(r'C:\\Users\\kara\\Desktop\\Compsci\\Honors Project'+\"\\\\\"+\"tweet1.txt\", \"r\", encoding=\"utf8\")\n",
    "content = f.read()\n",
    "\n",
    "file= open(\"sqlstatements.txt\",\"w+\")\n",
    "       \n",
    "index = 0\n",
    "tweet = {}\n",
    "while(content.find('{\"created_at\":',index,len(content))!=-1):\n",
    "    \n",
    "    index = content.find('{\"created_at\":',index,len(content))\n",
    "    idd = content.find('\"id\"',index,len(content)) + 6            \n",
    "    ident = \"\"\n",
    "    while(content[idd]!=\",\"):\n",
    "        ident = ident + content[idd]\n",
    "        idd = idd+1\n",
    "    finalid = ident\n",
    "    json = \"\"\n",
    "    nextindex = content.find('{\"created_at\":',(index+1),len(content))\n",
    "    temp = index\n",
    "    \n",
    "    while(temp<nextindex-1):\n",
    "        json = json+content[temp]\n",
    "        temp = temp + 1\n",
    "                \n",
    "    if(nextindex==-1): #last json val\n",
    "        while(temp<len(content)-1):\n",
    "            json = json+content[temp]\n",
    "            temp = temp + 1\n",
    "    finaljson = json\n",
    "    index = index + 1  \n",
    "    \n",
    "    finaljson = finaljson.replace('\\\\\"',\"\\\\'\")\n",
    "    \n",
    "    sql = \"insert into tweets values (\"+finalid+\",'\"+finaljson+\"');\\n\"\n",
    "    file.write(sql)\n",
    "            \n",
    "\n"
   ]
  },
  {
   "cell_type": "code",
   "execution_count": null,
   "metadata": {},
   "outputs": [],
   "source": []
  }
 ],
 "metadata": {
  "kernelspec": {
   "display_name": "Python 3",
   "language": "python",
   "name": "python3"
  },
  "language_info": {
   "codemirror_mode": {
    "name": "ipython",
    "version": 3
   },
   "file_extension": ".py",
   "mimetype": "text/x-python",
   "name": "python",
   "nbconvert_exporter": "python",
   "pygments_lexer": "ipython3",
   "version": "3.7.4"
  }
 },
 "nbformat": 4,
 "nbformat_minor": 2
}
