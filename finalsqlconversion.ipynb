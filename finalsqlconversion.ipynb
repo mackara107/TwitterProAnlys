{
 "cells": [
  {
   "cell_type": "code",
   "execution_count": 16,
   "metadata": {},
   "outputs": [
    {
     "data": {
      "text/plain": [
       "1434816"
      ]
     },
     "execution_count": 16,
     "metadata": {},
     "output_type": "execute_result"
    }
   ],
   "source": [
    "#!/usr/bin/python3\n",
    "import re\n",
    "import mysql.connector\n",
    "import os\n",
    "\n",
    "directory = r'C:\\Users\\kara\\Desktop\\Compsci\\Honors Project'\n",
    "\n",
    "\n",
    "f = open(r'C:\\Users\\kara\\Desktop\\Compsci\\Honors Project\\finalsqlstmts'+\"\\\\\"+\"sqlstmt15.txt\", \"r\", encoding=\"utf8\")\n",
    "content = f.read()\n",
    "\n",
    "file= open(\"sqlFINAL.txt\",\"w+\")\n",
    "\n",
    "emoji_pattern = re.compile(\"[\"\n",
    "        u\"\\U0001F600-\\U0001F64F\"  # emoticons\n",
    "        u\"\\U0001F300-\\U0001F5FF\"  # symbols & pictographs\n",
    "        u\"\\U0001F680-\\U0001F6FF\"  # transport & map symbols\n",
    "        u\"\\U0001F1E0-\\U0001F1FF\"  # flags (iOS)\n",
    "                           \"]+\", flags=re.UNICODE)\n",
    "\n",
    "\n",
    "newcontent = content.replace('\\\\\"',\"\\\\'\")\n",
    "newcontent = newcontent.replace(\"\\\\'\",\"\")\n",
    "newcontent = newcontent.replace(\"\\\\\",\"~\")\n",
    "file.write(newcontent)"
   ]
  },
  {
   "cell_type": "code",
   "execution_count": null,
   "metadata": {},
   "outputs": [],
   "source": []
  }
 ],
 "metadata": {
  "kernelspec": {
   "display_name": "Python 3",
   "language": "python",
   "name": "python3"
  },
  "language_info": {
   "codemirror_mode": {
    "name": "ipython",
    "version": 3
   },
   "file_extension": ".py",
   "mimetype": "text/x-python",
   "name": "python",
   "nbconvert_exporter": "python",
   "pygments_lexer": "ipython3",
   "version": "3.7.4"
  }
 },
 "nbformat": 4,
 "nbformat_minor": 2
}
